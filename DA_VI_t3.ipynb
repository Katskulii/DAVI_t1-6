{
 "cells": [
  {
   "cell_type": "markdown",
   "id": "98019efa-5fa9-4046-bfdd-2b82c4c098b3",
   "metadata": {},
   "source": [
    "## Kunnat ja kuntatilastot\n",
    "\n",
    "Tee funktio kuntatilastot(url), joka laskee erikseen neljän maakunnan ja niissä olevien kaupungien ja ei-kaupunkien (Muu Kunta) tavanomaiset tilastotiedot omiin DataFrame-rakenteisiin sekä tulostaa niiden asukaslukujen summan, keskiarvon ja mediaanin (sum, mean, median).\n",
    "\n",
    "- lataa datan DataFrameen url:sta (sarakkeiden erotinmerkki on puolipiste ja desimaalimerkki on pilkku),\n",
    "- Valitse DataFramesta seuraavat neljä maakuntaa: 'Uusimaa', 'Päijät-Häme', 'Kanta-Häme', 'Pirkanmaa'\n",
    "- kopioi ensimmäiseen DataFrameen kaikki sarakkeet ja rivit, jossa sarakkeessa ‘kuntamuoto’ esiintyy merkkijono ‘Kaupunki’\n",
    "- kopioi toiseen DataFrameen kaikki sarakkeet ja rivit, jossa sarakkeessa ‘kuntamuoto’ esiintyy merkkijono ‘Muu kunta’\n",
    "- Tee uusi DataFrame, johon lisäät molempien DataFrame-rakenteiden 'Väkiluku'-sarakkeen mukaiset tilastotiedot seuraaviin uusiin sarakkeisiin: ‘Tyyppi’: (‘Kaupunki’ tai ‘Muu kunta’), ‘Keskiarvo’, ‘Mediaani’ ja ‘Summa’.\n",
    "- tulosta DataFramen tulokset pyöristäen tulokset lähimpään kokonaislukuun (ensin kaupungien tiedot)\n",
    "\n",
    "Tässä tehtävässä url=https://student.labranet.jamk.fi/~pelju/data_av/sources/kunnat.csv"
   ]
  },
  {
   "cell_type": "code",
   "execution_count": 1,
   "id": "6d094a01-340b-482d-877b-86a8316f00a3",
   "metadata": {},
   "outputs": [
    {
     "name": "stdout",
     "output_type": "stream",
     "text": [
      "      Tyyppi  Keskiarvo  Mediaani    Summa\n",
      "0   Kaupunki      69525     27592  2155287\n",
      "1  Muu kunta      10887      5403   402825\n"
     ]
    }
   ],
   "source": [
    "url= \"https://student.labranet.jamk.fi/~pelju/data_av/sources/kunnat.csv\"\n",
    "import pandas as pd\n",
    "\n",
    "def kuntatilastot(url):\n",
    "    # Kirjoita vastauksesi tähän\n",
    "    \n",
    "    df = pd.read_csv(url, sep=';', decimal=',')\n",
    "    countys = ['Uusimaa', 'Päijät-Häme', 'Kanta-Häme', 'Pirkanmaa']\n",
    "    df_selected = df[df['maakunta'].isin(countys)]\n",
    "    \n",
    "    city_df = df_selected.loc[df['kuntamuoto'].str.contains('Kaupunki', na=False)].copy() # Kopioidaan eri muuttujiin kaupungit ja kunnat \n",
    "    county_df = df_selected.loc[df['kuntamuoto'].str.contains('Muu kunta', na=False)].copy()\n",
    "    new_df = pd.concat([city_df, county_df], axis=0) # Yhdistetään kopiot uuteen dataframeen\n",
    "    \n",
    "    new_df.loc[new_df['kuntamuoto'].str.contains('Kaupunki', na=False), 'Tyyppi'] = 'Kaupunki'\n",
    "    new_df.loc[new_df['kuntamuoto'].str.contains('Muu kunta', na=False), 'Tyyppi'] = 'Muu kunta'\n",
    "    \n",
    "    new_df = new_df.groupby('Tyyppi').agg({'Väkiluku': ['mean', 'median', 'sum']})\n",
    "    \n",
    "    new_df.columns = ['Keskiarvo', 'Mediaani', 'Summa']\n",
    "    new_df['Keskiarvo'] = new_df['Keskiarvo'].astype(int)\n",
    "    new_df['Mediaani'] = new_df['Mediaani'].astype(int)\n",
    "    new_df['Summa'] = new_df['Summa'].astype(int)\n",
    "    tulos = new_df.reset_index()\n",
    "\n",
    "    #new_df\n",
    "    # tilastot = {'Tyyppi': ['Kaupunki', 'Muu kunta'], # Muut kentät ...\n",
    "\n",
    "    print(tulos)\n",
    "    \n",
    "kuntatilastot(url)"
   ]
  },
  {
   "cell_type": "markdown",
   "id": "619003f0-a6c0-4980-b073-d3ef3bc990a7",
   "metadata": {},
   "source": [
    "## Kunnat ja maakuntien tilastolliset tiedot\n",
    "\n",
    "Tee funktio maakunnat(url), joka laskee maakuntien ei-kaupungien (Muu Kunta) väkiluvut yhteen sekä tulostaa ne maakunnat, joissa asuu eniten “Muu kunta” -kunnissa (eli ei kaupungeissa) asuvia asukkaita.\n",
    "\n",
    "- lataa datan DataFrameen url:sta (sarakkeiden erotinmerkki on puolipiste ja desimaalimerkki on pilkku),\n",
    "- kopioi uuteen DataFrameen kaikki sarakkeet ja rivit, jossa sarakkeessa ‘kuntamuoto’ esiintyy merkkijono ‘Muu kunta’\n",
    "- Laskee yhteen edellä haettujen kuntien asukasluvut ryhmittelemällä (groupby()-funktio) ne maakunnan mukaan\n",
    "- Muodostaa tuloksista DataFrame, jossa on kentät on järjestetty maakunnan ‘Väkiluku’ -kentän mukaan laskevasti (ts. järjestyksessä suurimmasta pienimpän)\n",
    "- tulostaa vain sarakkeet: ‘Väkiluku’, ‘kokonaispinta-ala’\n",
    "- tulostaa lopputulokseen kuusi (6) ensimmäistä riviä.\n",
    "\n",
    "Tässä tehtävässä url=https://student.labranet.jamk.fi/~pelju/data_av/sources/kunnat.csv"
   ]
  },
  {
   "cell_type": "code",
   "execution_count": 2,
   "id": "ad56aac2-1d7b-4caa-bac1-79b00975cd06",
   "metadata": {},
   "outputs": [
    {
     "name": "stdout",
     "output_type": "stream",
     "text": [
      "                   Väkiluku  kokonaispinta-ala\n",
      "maakunta                                      \n",
      "Uusimaa              219203            5751.35\n",
      "Pohjois-Pohjanmaa     95571           21035.99\n",
      "Varsinais-Suomi       82793            7327.68\n",
      "Pirkanmaa             79856            4493.22\n",
      "Pohjois-Savo          69339           12357.90\n",
      "Keski-Suomi           69317           11077.61\n"
     ]
    }
   ],
   "source": [
    "url= \"https://student.labranet.jamk.fi/~pelju/data_av/sources/kunnat.csv\"\n",
    "import pandas as pd\n",
    "\n",
    "def maakunnat(url):\n",
    "    # Kirjoita vastauksesi tähän\n",
    "    df_2 = pd.read_csv(url, sep=';', decimal=',')\n",
    "    c_df = df_2[df_2['kuntamuoto'] == ('Muu kunta')].copy()\n",
    "\n",
    "    grouped_df = c_df.groupby('maakunta')[['Väkiluku', 'kokonaispinta-ala']].sum()\n",
    "    grouped_df = grouped_df.sort_values(by='Väkiluku', ascending=False)\n",
    "    result_df = grouped_df.reset_index().set_index('maakunta')\n",
    "\n",
    "    tulos = result_df.head(6)\n",
    "\n",
    "    # Älä kirjoita muita print komentoja ennen tulos muuttujan tulostusta.\n",
    "    print(tulos)\n",
    "    \n",
    "maakunnat(url)"
   ]
  },
  {
   "cell_type": "markdown",
   "id": "22c65945-d410-4d6b-887a-af661155cfe6",
   "metadata": {},
   "source": [
    "## Kunnat ja äänestysprosentit\n",
    "\n",
    "Tee funktio kunnat(url), joka laskee tietyillä ehdoilla valittujen maakuntien kunnat, joissa on äänestetty eniten Keskusta-puoluetta.\n",
    "\n",
    "Tee ensin uusi DataFrame jossa on kaikki Suomen kunnat, joiden kuntamuoto on Kaupunki.\n",
    "\n",
    "- tulosta ne 10 kuntaa, joissa taajama-aste on yli 70% ja Keskusta-puolueen kannatus 2019 eduskuntavaaleissa on suurin kaikista puolueista. Vertaa kannatusta vain seuraaviin puolueisiin: 'ev19-PS', 'ev19-KOK', 'ev19-VIHR', 'ev19-RKP', 'ev19-SDP'\n",
    "- Lajittele tulokset Keskusta-puolueen kannatuksen mukaan siten, että suurimman kannatuksen Keskusta-puolueelle saanut kunta on ensimmäinen.\n",
    "- Datassa on kentät alle 15-vuotiaiden ja yli 64-vuotiaiden osuudelle. Laske näiden avulla 15-64 vuotiaiden osuus äänestäjistä ja luo DataFrameen uusi kenttä nimeltään 15-64%.\n",
    "- Tulosta vastauksena seuraavat DataFramen sarakkeet (kunta, Taajama-aste, ev19-KESK, 15-64%) - alla malliesimerkki: \n",
    "\n",
    "         kunta  Taajama-aste  ev19-KESK  15-64%\n",
    "    75       Kannus          73.2       47.2    58.4\n",
    "\n",
    "Huom! DataFramen sisältö tulostetaan sellaisenaan ilman muotoiluja tässä tehtävässä.\n",
    "\n",
    "Tässä tehtävässä url=https://student.labranet.jamk.fi/~pelju/data_av/sources/kunnat.csv"
   ]
  },
  {
   "cell_type": "code",
   "execution_count": 3,
   "id": "bb9015dd-77a5-4c82-8baf-7f645600cb0d",
   "metadata": {},
   "outputs": [
    {
     "name": "stdout",
     "output_type": "stream",
     "text": [
      "          kunta  Taajama-aste  ev19-KESK  15-64%\n",
      "75       Kannus          73.2       47.2    58.4\n",
      "305   Ylivieska          86.0       41.2    59.3\n",
      "70     Kalajoki          76.0       41.0    56.8\n",
      "37    Huittinen          70.8       38.2    57.1\n",
      "275      Tornio          87.8       37.9    60.0\n",
      "179    Oulainen          74.5       36.3    56.5\n",
      "87    Kemijärvi          70.1       34.9    52.4\n",
      "261  Suonenjoki          72.0       31.2    55.4\n",
      "217       Raahe          87.1       30.7    57.1\n",
      "194  Pieksämäki          76.1       27.2    57.2\n"
     ]
    }
   ],
   "source": [
    "url = \"https://student.labranet.jamk.fi/~pelju/data_av/sources/kunnat.csv\"\n",
    "import pandas as pd\n",
    "\n",
    "def kunnat(url):\n",
    "    # Kirjoita vastauksesi tähän\n",
    "    df_3 = pd.read_csv(url, sep=';', decimal=',')\n",
    "    df_taajama = df_3[df_3['kuntamuoto'] == ('Kaupunki')].copy()\n",
    "\n",
    "    df_taajama_3 = df_taajama[(df_taajama['Taajama-aste'] > 70) & (df_taajama['ev19-KESK'] > df_taajama[['ev19-PS', 'ev19-KOK', 'ev19-VIHR', 'ev19-RKP', 'ev19-SDP']].max(axis=1))]\n",
    "    df_taajama_3 = df_taajama_3.sort_values(by='ev19-KESK', ascending=False)\n",
    "    df_taajama_3['15-64%'] = 100 - df_taajama_3['Alle 15-v. osuus%'] - df_taajama_3['Yli 64-v. osuus%']\n",
    "\n",
    "    tulos = df_taajama_3[['kunta', 'Taajama-aste', 'ev19-KESK', '15-64%']].head(10)\n",
    "\n",
    "\n",
    "    # Älä kirjoita muita print komentoja ennen tulos muuttujan tulostusta.\n",
    "    print(tulos)\n",
    "kunnat(url)"
   ]
  },
  {
   "cell_type": "markdown",
   "id": "81a5515e-6f59-46be-a7bc-2bfe92699dab",
   "metadata": {},
   "source": [
    "## Päästöjen aiheuttajia\n",
    "\n",
    "Tee funktio emissions(url), joka tekee järjestyksessä seuraavaa:\n",
    "\n",
    "- lataa datan DataFrameen url:sta, jossa erotinmerkkinä on tabulaattori ('\\t'),\n",
    "- tallentaa DataFrameen sarakkeet 'country' ja 'main activity sector name',\n",
    "- poistaa DataFramesta rivit, jos sarakkeessa 'main activity sector name' esiintyy merkkijonot '20-99 All stationary installations' tai '21-99 All industrial installations (excl. combustion)'\n",
    "- laskee kuinka monta kertaa sarakkeen 'main activity sector name' eri arvot esiintyvät DataFramessa,\n",
    "- tulostusta varten sarake 'main activity sector name' on nimettävä uudelleen sarakkeeksi 'sector'\n",
    "- tulostaa (viisi ensimmäistä riviä) järjestyksessä pienimmästä suurimpaan sarakkeen 'sector' arvojen lukumäärät.\n",
    "\n",
    "Tässä tehtävässä url=https://student.labranet.jamk.fi/~huoptu/datananal_s20/kerta3/harjoitukset/ETS_Database_v38A.csv\n",
    "\n",
    "Vihje:\n",
    "\n",
    "### sarake = 'country\\tcountry_code\\tETS information\\tmain activity sector name\\tunit\\tvalue\\tyear' \n",
    "\n",
    "### CSV:stä luetun dataframen merkkijonot tulee splitata vielä toiseen kertaan lukemisen jälkeen split()-funktiolla. "
   ]
  },
  {
   "cell_type": "code",
   "execution_count": 4,
   "id": "1f3a986f-c6e8-4fec-ba3f-898056a8bba4",
   "metadata": {},
   "outputs": [
    {
     "name": "stdout",
     "output_type": "stream",
     "text": [
      "45 Capture of greenhouse gases under Directive 2009/31/EC       14\n",
      "46 Transport of greenhouse gases under Directive 2009/31/EC     22\n",
      "40 Production of glyoxal and glyoxylic acid                     37\n",
      "39 Production of adipic acid                                    43\n",
      "44 Production of soda ash and sodium bicarbonate               325\n",
      "Name: sector, dtype: int64\n"
     ]
    }
   ],
   "source": [
    "url= \"https://student.labranet.jamk.fi/~huoptu/datananal_s20/kerta3/harjoitukset/ETS_Database_v38A.csv\"\n",
    "import pandas as pd\n",
    "\n",
    "def emissions(url):\n",
    "    # Kirjoita vastauksesi tähän alle:\n",
    "    df_4 = pd.read_csv(url, sep='\\t', decimal=',')\n",
    "    df_4 = df_4['country\\tcountry_code\\tETS information\\tmain activity sector name\\tunit\\tvalue\\tyear'].str.split('\\t', expand=True)\n",
    "    df_4.columns = ['country', 'country_code', 'ETS information', 'main activity sector name', 'unit', 'value', 'year']\n",
    "    df_4 = df_4.loc[:, ['country', 'main activity sector name']]\n",
    "    df_4 = df_4[~df_4['main activity sector name'].isin(['20-99 All stationary installations', '21-99 All industrial installations (excl. combustion)'])]\n",
    "\n",
    "    df_4.rename(columns={'main activity sector name': 'sector'}, inplace=True)\n",
    "    tulos = df_4['sector'].value_counts().sort_values().head()\n",
    "\n",
    "    \n",
    "    # ...\n",
    "    # Älä kirjoita tähän muita print komentoja ennen viimeistä print(tulos) komentoa, koska tällöin vastauksesi saatetaan tulkita väärin.\n",
    "    \n",
    "    # Lopuksi vastauksesi tulostetaan tulos muuttujassa\n",
    "    print(tulos)\n",
    "    \n",
    "emissions(url)    "
   ]
  },
  {
   "cell_type": "markdown",
   "id": "9c9ff2de-91ba-4bf5-b261-125387faf405",
   "metadata": {},
   "source": [
    "## Päästöjen summaaminen\n",
    "\n",
    "Tee funktio emissions(url), joka tekee järjestyksessä seuraavaa:\n",
    "\n",
    "- lataa datan DataFrameen url:sta, jossa erotinmerkkinä on tabulaattori ('\\t'),\n",
    "- tallentaa DataFrameen sarakkeet 'main activity sector name', 'value' ja 'year',\n",
    "- poistaa DataFramesta rivit, jos sarakkeessa 'main activity sector name' esiintyy merkkijonot '20-99 All stationary installations' tai '21-99 All industrial installations (excl. combustion)'\n",
    "- tallentaa uuteen DataFrameen kaikki rivit, joissa sarakkeen 'year' lukuarvo on yhtäsuuri tai suurempi kuin 2010 ja yhtäsuuri tai pienempi kuin 2015.\n",
    "- laskee uuteen DataFrameen kuinka paljon ovat kokonaispäästöt sektoreittain (summa sarakkeesta 'values', jotka on ryhmitelty sarakkeen 'main activity sector name' mukaan),\n",
    "- järjestää uuden DataFramen rivit suurimmasta pienimpään sarakkeen 'value' mukaan,\n",
    "- tulostaa viisi ensimmäistä riviä DataFramesta siten, että sarake 'main activity sector name' on nimetty sarakkeeksi 'sector',\n",
    "- huomaa, että sarake 'value' on ennen saraketta 'sector'.\n",
    "\n",
    "Tässä tehtävässä url=https://student.labranet.jamk.fi/~huoptu/datananal_s20/kerta3/harjoitukset/ETS_Database_v38A.csv"
   ]
  },
  {
   "cell_type": "code",
   "execution_count": 5,
   "id": "8a564797-1f68-413f-b517-c16d77b06f69",
   "metadata": {},
   "outputs": [
    {
     "name": "stdout",
     "output_type": "stream",
     "text": [
      "           value                               sector\n",
      "1   1.273006e+10               20 Combustion of fuels\n",
      "5   2.053915e+09  24  Production of pig iron or steel\n",
      "10  1.803550e+09      29 Production of cement clinker\n",
      "2   1.678130e+09          21  Refining of mineral oil\n",
      "0   5.644274e+08                          10 Aviation\n"
     ]
    }
   ],
   "source": [
    "url= \"https://student.labranet.jamk.fi/~huoptu/datananal_s20/kerta3/harjoitukset/ETS_Database_v38A.csv\"\n",
    "import pandas as pd\n",
    "\n",
    "def emissions(url):\n",
    "    # Kirjoita vastauksesi tähän alle:\n",
    "    df_5 = pd.read_csv(url, sep='\\t', decimal=',')\n",
    "    df_5 = df_5['country\\tcountry_code\\tETS information\\tmain activity sector name\\tunit\\tvalue\\tyear'].str.split('\\t', expand=True)\n",
    "    df_5.columns = ['country', 'country_code', 'ETS information', 'main activity sector name', 'unit', 'value', 'year']\n",
    "\n",
    "    df_5 = df_5.loc[:, ['main activity sector name', 'value', 'year']]\n",
    "\n",
    "    df_5 = df_5[~df_5['main activity sector name'].isin(['20-99 All stationary installations', '21-99 All industrial installations (excl. combustion)'])]\n",
    "    df_5['value'] = pd.to_numeric(df_5['value'], errors='coerce')\n",
    "\n",
    "    new_df_5 = df_5[(df_5['year'] >= str(2010)) & (df_5['year'] <= str(2015))].copy()\n",
    "\n",
    "    newer_df_5 = new_df_5.groupby(new_df_5['main activity sector name'], as_index=False)['value'].sum().reset_index()\n",
    "    newer_df_5 = newer_df_5.rename(columns={'main activity sector name': 'sector'})\n",
    "    newer_df_5 = newer_df_5.loc[:, ['value', 'sector']]\n",
    "\n",
    "    tulos = newer_df_5.sort_values('value', ascending=False).head()\n",
    "\n",
    "\n",
    "    print(tulos)\n",
    "    \n",
    "emissions(url)"
   ]
  }
 ],
 "metadata": {
  "kernelspec": {
   "display_name": "Python 3 (ipykernel)",
   "language": "python",
   "name": "python3"
  },
  "language_info": {
   "codemirror_mode": {
    "name": "ipython",
    "version": 3
   },
   "file_extension": ".py",
   "mimetype": "text/x-python",
   "name": "python",
   "nbconvert_exporter": "python",
   "pygments_lexer": "ipython3",
   "version": "3.9.13"
  }
 },
 "nbformat": 4,
 "nbformat_minor": 5
}
