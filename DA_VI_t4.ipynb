{
 "cells": [
  {
   "cell_type": "markdown",
   "id": "d93099cd-261e-4541-9c44-689baf0b5657",
   "metadata": {},
   "source": [
    "## Autodatan yhdistäminen\n",
    "Tee funktio autot(url1, url2), joka tekee järjestyksessä seuraavaa:\n",
    "\n",
    "- lataa datat DataFrameihin url1:sta ja url2:sta, joissa erotinmerkkinä on puolipiste (';'),\n",
    "- yhdistää uuteen DataFrameen autoihin liittyvät datat url1:stä ja url2:sta (tutki tarvittaessa mitä dataa urleista on saatavilla),\n",
    "- tekee juuri yhdistetystä DataFramesta Serieksen, josta käy ilmi kuinka monta automerkkiä datassa on (automerkki on sarakkeessa 'Cn'),\n",
    "- tulostaa em. Serieksestä viisi eniten esiintyvää automerkkiä.\n",
    "\n",
    "Tässä tehtävässä:\n",
    "\n",
    "url1=https://student.labranet.jamk.fi/~huoptu/datananal_s20/kerta4/harjoitukset/autotA1.csv\n",
    "url2=https://student.labranet.jamk.fi/~huoptu/datananal_s20/kerta4/harjoitukset/autotA2.csv"
   ]
  },
  {
   "cell_type": "code",
   "execution_count": 1,
   "id": "144cdc93-bd2b-4907-8107-d935a9bbe82d",
   "metadata": {},
   "outputs": [
    {
     "name": "stdout",
     "output_type": "stream",
     "text": [
      "OCTAVIA    396\n",
      "FABIA      377\n",
      "RAPID      197\n",
      "SUPERB     159\n",
      "KAROQ      148\n",
      "Name: Cn, dtype: int64\n"
     ]
    }
   ],
   "source": [
    "url1 = \"https://student.labranet.jamk.fi/~huoptu/datananal_s20/kerta4/harjoitukset/autotA1.csv\"\n",
    "url2 = \"https://student.labranet.jamk.fi/~huoptu/datananal_s20/kerta4/harjoitukset/autotA2.csv\"\n",
    "\n",
    "import pandas as pd\n",
    "\n",
    "def autot(url1, url2):\n",
    "    \n",
    "    df1 = pd.read_csv(url1, sep=';')\n",
    "    df2 = pd.read_csv(url2, sep=';')\n",
    "    merged_df = pd.merge(df1, df2, how='outer')\n",
    "    brand_counts = merged_df['Cn'].value_counts()\n",
    "    tulos = brand_counts.head()\n",
    "    \n",
    "    print(tulos)\n",
    "    \n",
    "autot(url1, url2)    "
   ]
  },
  {
   "cell_type": "markdown",
   "id": "debfaa5e-10db-45cb-9d9e-0ce531bc12e7",
   "metadata": {},
   "source": [
    "## Autodatan yhdistäminen ja ryhmittely\n",
    "Tee funktio autot(url_a1, url_a2, url_b1, url_b2), joka tekee järjestyksessä seuraavaa:\n",
    "\n",
    "- lataa datat DataFrameihin osoitteista (url_a1, url_a2, url_b1, url_b2), joissa erotinmerkkinä on puolipiste (';'),\n",
    "- yhdistää uuteen DataFrameen 'dfa' autoihin liittyvät datat url_a1:sta ja url_a2:sta (tutki tarvittaessa mitä dataa urleista on saatavilla),\n",
    "- yhdistää uuteen DataFrameen 'dfb' autoihin liittyvät datat url_b1:sta ja url_b2:sta (tutki tarvittaessa mitä dataa urleista on saatavilla),\n",
    "- yhdistää DataFramet 'dfa' ja 'dfb' yhdeksi DataFrameksi 'df' sarakkeen 'ID' perusteella,\n",
    "- jos DataFramessa 'df' on sarakkeessa auton moottorin teho 'ep (KW)' nan arvoja, korvataan ne lukuarvolla nolla,\n",
    "- tuottaa DataFramen 'tulos', johon on laskettu autojen keskimääräiset tehot sarakkeesta 'ep (KW)' ryhmiteltynä auton valmistajan mukaan 'Mh' (tutki tarvittaessa groupby dokumentaatiosta kuinka groupby palauttaa indeksin),\n",
    "- järjestää DataFramen 'tulos' rivit keskimääräisen tehon mukaan 'ep (KW)' suurimmasta pienimpään.\n",
    "- tulostaa edellä jäjestetystä DataFramesta viisi ensimmäistä riviä.\n",
    "\n",
    "Tässä tehtävässä:\n",
    "\n",
    "url_a1=https://student.labranet.jamk.fi/~huoptu/datananal_s20/kerta4/harjoitukset/autotA1.csv\n",
    "url_a2=https://student.labranet.jamk.fi/~huoptu/datananal_s20/kerta4/harjoitukset/autotA2.csv\n",
    "url_b1=https://student.labranet.jamk.fi/~huoptu/datananal_s20/kerta4/harjoitukset/autotB1.csv\n",
    "url_b2=https://student.labranet.jamk.fi/~huoptu/datananal_s20/kerta4/harjoitukset/autotB2.csv"
   ]
  },
  {
   "cell_type": "code",
   "execution_count": 2,
   "id": "769144ec-cecb-4550-ad41-cc0407a54756",
   "metadata": {},
   "outputs": [
    {
     "name": "stdout",
     "output_type": "stream",
     "text": [
      "                Mh     ep (KW)\n",
      "6            TESLA  386.000000\n",
      "0           AA-IVA  267.750000\n",
      "2  FORD WERKE GMBH   89.741007\n",
      "5            SKODA   81.372515\n",
      "3              KIA   77.000000\n"
     ]
    }
   ],
   "source": [
    "url_a1 = \"https://student.labranet.jamk.fi/~huoptu/datananal_s20/kerta4/harjoitukset/autotA1.csv\"\n",
    "url_a2 = \"https://student.labranet.jamk.fi/~huoptu/datananal_s20/kerta4/harjoitukset/autotA2.csv\"\n",
    "url_b1 = \"https://student.labranet.jamk.fi/~huoptu/datananal_s20/kerta4/harjoitukset/autotB1.csv\"\n",
    "url_b2 = \"https://student.labranet.jamk.fi/~huoptu/datananal_s20/kerta4/harjoitukset/autotB2.csv\"\n",
    "\n",
    "import pandas as pd\n",
    "def autot(url_a1, url_a2, url_b1, url_b2):\n",
    "\n",
    "    df_a1 = pd.read_csv(url_a1, sep=';')\n",
    "    df_a2 = pd.read_csv(url_a2, sep=';')\n",
    "    df_b1 = pd.read_csv(url_b1, sep=';')\n",
    "    df_b2 = pd.read_csv(url_b2, sep=';')\n",
    "\n",
    "    dfa = pd.merge(df_a1, df_a2, how='outer')\n",
    "    dfb = pd.concat([df_b1, df_b2])\n",
    "\n",
    "    df = pd.merge(dfa, dfb, on = 'ID')\n",
    "    df['ep (KW)'] = df['ep (KW)'].fillna(0)\n",
    "    tulos = df.groupby('Mh')['ep (KW)'].mean().reset_index().sort_values(by='ep (KW)', ascending=False).head()\n",
    "\n",
    "    print(tulos)\n",
    "    \n",
    "autot(url_a1, url_a2, url_b1, url_b2)"
   ]
  },
  {
   "cell_type": "markdown",
   "id": "d2912357-5cc6-45d8-8dee-94515d85fed4",
   "metadata": {},
   "source": [
    "## Autodatan yhdistäminen ja ristiintaulukointi\n",
    "Tee funktio autot(url_a1, url_a2, url_b1, url_b2), joka tekee järjestyksessä seuraavaa:\n",
    "\n",
    "- lataa datat DataFrameihin osoitteista (url_a1, url_a2, url_b1, url_b2), joissa erotinmerkkinä on puolipiste (';'),\n",
    "- yhdistää uuteen DataFrameen 'dfa' autoihin liittyvät datat url_a1:sta ja url_a2:sta (tutki tarvittaessa mitä dataa urleista on saatavilla),\n",
    "- yhdistää uuteen DataFrameen 'dfb' autoihin liittyvät datat url_b1:sta ja url_b2:sta (tutki tarvittaessa mitä dataa urleista on saatavilla),\n",
    "- yhdistää DataFramet 'dfa' ja 'dfb' yhdeksi DataFrameksi 'df' sarakkeen 'ID' perusteella,\n",
    "- jos sarakkeessa 'Ft' on merkkijono 'DIESEL', korvataan se merkkijonolla 'Diesel',\n",
    "- jos sarakkeessa 'Ft' on merkkijono 'PETROL', korvataan se merkkijonolla 'Petrol',\n",
    "- tekee uuden DataFramen hyödyntäen crosstab funktiota ja sopivaa numpy funktiota, jossa on laskettu esimerkkituloksen mukaisesti keskimääräiset päästöt sarakkeesta 'Enedc (g/km)' autonvalmistaja kohtaisesti (sarake 'Mh') polttoainetyypeittäin (sarake 'Ft'),\n",
    "- esittää edellä kuvatusta DataFramesta keskimääräiset päästöt yhden desimaalin tarkkuudella,\n",
    "- valitsee uuteen DataFrameen sarakkeet 'Dielsel' ja 'Petrol',\n",
    "- tulostaa edellä tuotetusta DataFramesta viisi ensimmäistä riviä.\n",
    "\n",
    "Tässä tehtävässä:\n",
    "\n",
    "url_a1=https://student.labranet.jamk.fi/~huoptu/datananal_s20/kerta4/harjoitukset/autotA1.csv\n",
    "url_a2=https://student.labranet.jamk.fi/~huoptu/datananal_s20/kerta4/harjoitukset/autotA2.csv\n",
    "url_b1=https://student.labranet.jamk.fi/~huoptu/datananal_s20/kerta4/harjoitukset/autotB1.csv\n",
    "url_b2=https://student.labranet.jamk.fi/~huoptu/datananal_s20/kerta4/harjoitukset/autotB2.csv"
   ]
  },
  {
   "cell_type": "code",
   "execution_count": 3,
   "id": "77c7033e-be5d-4201-a3ea-54095e60ff5f",
   "metadata": {},
   "outputs": [
    {
     "name": "stdout",
     "output_type": "stream",
     "text": [
      "Ft                   Diesel  Petrol\n",
      "Mh                                 \n",
      "AA-IVA                129.0   194.7\n",
      "AUTOMOBILES CITROEN   102.7   105.6\n",
      "FORD WERKE GMBH       112.9   133.7\n",
      "KIA                     NaN    88.0\n",
      "NISSAN                112.3   127.7\n"
     ]
    }
   ],
   "source": [
    "url_a1 = \"https://student.labranet.jamk.fi/~huoptu/datananal_s20/kerta4/harjoitukset/autotA1.csv\"\n",
    "url_a2 = \"https://student.labranet.jamk.fi/~huoptu/datananal_s20/kerta4/harjoitukset/autotA2.csv\"\n",
    "url_b1 = \"https://student.labranet.jamk.fi/~huoptu/datananal_s20/kerta4/harjoitukset/autotB1.csv\"\n",
    "url_b2 = \"https://student.labranet.jamk.fi/~huoptu/datananal_s20/kerta4/harjoitukset/autotB2.csv\"\n",
    "\n",
    "import pandas as pd\n",
    "import numpy as np\n",
    "\n",
    "def autot(url_a1, url_a2, url_b1, url_b2):\n",
    "    \n",
    "    df_A1 = pd.read_csv(url_a1, sep=';')\n",
    "    df_A2 = pd.read_csv(url_a2, sep=';')\n",
    "    df_B1 = pd.read_csv(url_b1, sep=';')\n",
    "    df_B2 = pd.read_csv(url_b2, sep=';')\n",
    "\n",
    "    dfa_2 = pd.merge(df_A1, df_A2, how='outer')\n",
    "    dfb_2 = pd.concat([df_B1, df_B2])\n",
    "\n",
    "    df = pd.merge(dfa_2, dfb_2, on = 'ID')\n",
    "\n",
    "    df['Ft'] = df['Ft'].replace('DIESEL', 'Diesel')\n",
    "    df['Ft'] = df['Ft'].replace('PETROL', 'Petrol')\n",
    "\n",
    "    new_df = pd.crosstab(index=df['Mh'], columns=df['Ft'], values=df['Enedc (g/km)'], aggfunc=np.mean).round(1)\n",
    "    new_df = new_df.loc[:, ['Diesel', 'Petrol']]\n",
    "\n",
    "    tulos = new_df.head()\n",
    "    \n",
    "    # Lopuksi vastauksesi tulostetaan tulos muuttujassa\n",
    "    print(tulos)\n",
    "    \n",
    "autot(url_a1, url_a2, url_b1, url_b2)"
   ]
  },
  {
   "cell_type": "markdown",
   "id": "2a3171ba-38d6-4c06-863b-7db3cbb36fd5",
   "metadata": {},
   "source": [
    "## Autodatan yhdistäminen ja ryhmittely monitasoiseksi DataFrameksi\n",
    "Tee funktio autot(url_a1, url_a2, url_b1, url_b2), joka tekee järjestyksessä seuraavaa:\n",
    "\n",
    "- lataa datat DataFrameihin osoitteista (url_a1, url_a2, url_b1, url_b2), joissa erotinmerkkinä on puolipiste (';'),\n",
    "- yhdistää uuteen DataFrameen 'dfa' autoihin liittyvät datat url_a1:sta ja url_a2:sta (tutki tarvittaessa mitä dataa urleista on saatavilla),\n",
    "- yhdistää uuteen DataFrameen 'dfb' autoihin liittyvät datat url_b1:sta ja url_b2:sta (tutki tarvittaessa mitä dataa urleista on saatavilla),\n",
    "- yhdistää DataFramet 'dfa' ja 'dfb' yhdeksi DataFrameksi 'df' sarakkeen 'ID' perusteella,\n",
    "- jos sarakkeessa 'Ft' on merkkijono 'DIESEL', korvataan se merkkijonolla 'Diesel',\n",
    "- jos sarakkeessa 'Ft' on merkkijono 'PETROL', korvataan se merkkijonolla 'Petrol',\n",
    "- tekee uuden DataFramen, jossa on laskettu moottorien keskiarvotilavuudet (sarake 'ec (cm3)') ryhmiteltynä sarakkeiden 'Mh' ja 'Ft' mukaan,\n",
    "- esittää moottorien keskiarvotilavuudet yhden desimaalin tarkkuudella,\n",
    "- muodostaa monitasoisen DataFramen, jossa sarakeindekseinä ovat monikot ('ec (cm3)', 'Diesel') ja ('ec (cm3)', 'Petrol'),\n",
    "- jos DataFramessa esiintyy NaN arvoja, niin DataFramen soluun kirjoitetaan merkkijono \"no value\",\n",
    "- tulostaa vastaukseen 10 ensimmäistä riviä.\n",
    "\n",
    "Tässä tehtävässä:\n",
    "\n",
    "url_a1=https://student.labranet.jamk.fi/~huoptu/datananal_s20/kerta4/harjoitukset/autotA1.csv\n",
    "url_a2=https://student.labranet.jamk.fi/~huoptu/datananal_s20/kerta4/harjoitukset/autotA2.csv\n",
    "url_b1=https://student.labranet.jamk.fi/~huoptu/datananal_s20/kerta4/harjoitukset/autotB1.csv\n",
    "url_b2=https://student.labranet.jamk.fi/~huoptu/datananal_s20/kerta4/harjoitukset/autotB2.csv"
   ]
  },
  {
   "cell_type": "code",
   "execution_count": 4,
   "id": "7d39c44f-69d7-4536-af9a-b67a74bf931c",
   "metadata": {},
   "outputs": [
    {
     "name": "stdout",
     "output_type": "stream",
     "text": [
      "                     ec (cm3)          \n",
      "Ft                     Diesel    Petrol\n",
      "Mh                                     \n",
      "AA-IVA                 1995.0    3596.0\n",
      "AUTOMOBILES CITROEN    1560.0    1131.0\n",
      "FORD WERKE GMBH        1615.1    1291.5\n",
      "KIA                  no value    1580.0\n",
      "NISSAN                 1559.4    1247.5\n",
      "SKODA                  1799.5    1190.6\n",
      "TESLA                no value  no value\n"
     ]
    }
   ],
   "source": [
    "url_a1 = \"https://student.labranet.jamk.fi/~huoptu/datananal_s20/kerta4/harjoitukset/autotA1.csv\"\n",
    "url_a2 = \"https://student.labranet.jamk.fi/~huoptu/datananal_s20/kerta4/harjoitukset/autotA2.csv\"\n",
    "url_b1 = \"https://student.labranet.jamk.fi/~huoptu/datananal_s20/kerta4/harjoitukset/autotB1.csv\"\n",
    "url_b2 = \"https://student.labranet.jamk.fi/~huoptu/datananal_s20/kerta4/harjoitukset/autotB2.csv\"\n",
    "\n",
    "import pandas as pd\n",
    "import numpy as np\n",
    "\n",
    "def autot(url_a1, url_a2, url_b1, url_b2):\n",
    "    \n",
    "    df_A1 = pd.read_csv(url_a1, sep=';')\n",
    "    df_A2 = pd.read_csv(url_a2, sep=';')\n",
    "    df_B1 = pd.read_csv(url_b1, sep=';')\n",
    "    df_B2 = pd.read_csv(url_b2, sep=';')\n",
    "\n",
    "    dfa_2 = pd.merge(df_A1, df_A2, how='outer')\n",
    "    dfb_2 = pd.concat([df_B1, df_B2])\n",
    "\n",
    "    df = pd.merge(dfa_2, dfb_2, on = 'ID')\n",
    "\n",
    "    df['Ft'] = df['Ft'].replace('DIESEL', 'Diesel')\n",
    "    df['Ft'] = df['Ft'].replace('PETROL', 'Petrol')\n",
    "\n",
    "    df_mean = df.groupby(['Mh', 'Ft'])['ec (cm3)'].mean().unstack('Ft')\n",
    "    df_mean.columns = pd.MultiIndex.from_product([['ec (cm3)'], df_mean.columns])\n",
    "    df_mean = df_mean.drop([('ec (cm3)', 'Electric'), ('ec (cm3)', 'NG')], axis=1).round(1)\n",
    "    df_mean = df_mean.fillna('no value')\n",
    "\n",
    "    tulos = df_mean.head(10)\n",
    "    \n",
    "    print(tulos)\n",
    "\n",
    "    \n",
    "autot(url_a1, url_a2, url_b1, url_b2)    "
   ]
  },
  {
   "cell_type": "markdown",
   "id": "d131a8fa-e9fd-453a-9ec3-734b19fcac65",
   "metadata": {},
   "source": [
    "## Autodatan yhdistäminen ja ryhmittely monitasoiseksi DataFrameksi (2)\n",
    "Tee funktio autot(url_a1, url_a2, url_b1, url_b2), joka tekee järjestyksessä seuraavaa:\n",
    "\n",
    "- lataa datat DataFrameihin osoitteista (url_a1, url_a2, url_b1, url_b2), joissa erotinmerkkinä on puolipiste (';'),\n",
    "- yhdistää uuteen DataFrameen 'dfa' autoihin liittyvät datat url_a1:sta ja url_a2:sta (tutki tarvittaessa mitä dataa urleista on saatavilla),\n",
    "- yhdistää uuteen DataFrameen 'dfb' autoihin liittyvät datat url_b1:sta ja url_b2:sta (tutki tarvittaessa mitä dataa urleista on saatavilla),\n",
    "- yhdistää DataFramet 'dfa' ja 'dfb' yhdeksi DataFrameksi 'df' sarakkeen 'ID' perusteella,\n",
    "- jos sarakkeessa 'Ft' on merkkijono 'DIESEL', korvataan se merkkijonolla 'Diesel',\n",
    "- jos sarakkeessa 'Ft' on merkkijono 'PETROL', korvataan se merkkijonolla 'Petrol',\n",
    "- tallentaa uuteen DataFrameen sarakkeet 'Enedc (g/km)', 'MS' ja 'Ft',\n",
    "- korvaa sarakkeen nimen 'Enedc (g/km)' nimellä 'Avg emissions (g/km)',\n",
    "- korvaa sarakkeen nimen 'MS' nimellä 'Member State',\n",
    "- korvaa sarakkeen nimen 'Ft' nimellä 'Fuel type',\n",
    "- laskee uuteen DataFrameen keskimääräiset päästöt (sarake 'Avg emissions (g/km)') maittain (sarake 'Member State') ja polttoainetyypeittäin (sarake 'Fuel type'),\n",
    "- jättää edellä tuotettuun monitasoiseen DataFrameen vain 'Diesel' ja 'Petrol' sarakkeet,\n",
    "- laskee uuteen sarakkeeseen 'D-P' kuinka paljon sarkkeen 'Diesel' arvo on suurempi kuin sarakkeen 'Petrol',\n",
    "- järjestää DataFramen sarakkeen 'D-P' mukaan laskevaan järjestykseen,\n",
    "- pyöristää ja esittää DataFramen lukuarvot kokonaislukujen tarkkuudella,\n",
    "- tulostaa vastaukseen DataFramesta viisi ensimmäistä riviä.\n",
    "\n",
    "Tässä tehtävässä:\n",
    "\n",
    "url_a1=https://student.labranet.jamk.fi/~huoptu/datananal_s20/kerta4/harjoitukset/autotA1.csv\n",
    "url_a2=https://student.labranet.jamk.fi/~huoptu/datananal_s20/kerta4/harjoitukset/autotA2.csv\n",
    "url_b1=https://student.labranet.jamk.fi/~huoptu/datananal_s20/kerta4/harjoitukset/autotB1.csv\n",
    "url_b2=https://student.labranet.jamk.fi/~huoptu/datananal_s20/kerta4/harjoitukset/autotB2.csv"
   ]
  },
  {
   "cell_type": "code",
   "execution_count": 5,
   "id": "0b373990-7436-4007-9559-2e1cf7d3858c",
   "metadata": {},
   "outputs": [
    {
     "name": "stdout",
     "output_type": "stream",
     "text": [
      "             Avg emissions (g/km)           \n",
      "Fuel type                  Diesel Petrol D-P\n",
      "Member State                                \n",
      "EE                            132    108  25\n",
      "FI                            137    112  25\n",
      "LV                            131    108  23\n",
      "GR                            122    100  22\n",
      "CZ                            122    110  12\n"
     ]
    }
   ],
   "source": [
    "url_a1 = \"https://student.labranet.jamk.fi/~huoptu/datananal_s20/kerta4/harjoitukset/autotA1.csv\"\n",
    "url_a2 = \"https://student.labranet.jamk.fi/~huoptu/datananal_s20/kerta4/harjoitukset/autotA2.csv\"\n",
    "url_b1 = \"https://student.labranet.jamk.fi/~huoptu/datananal_s20/kerta4/harjoitukset/autotB1.csv\"\n",
    "url_b2 = \"https://student.labranet.jamk.fi/~huoptu/datananal_s20/kerta4/harjoitukset/autotB2.csv\"\n",
    "\n",
    "import pandas as pd\n",
    "#import numpy as np\n",
    "\n",
    "def autot(url_a1, url_a2, url_b1, url_b2):\n",
    "    \n",
    "    df_A1 = pd.read_csv(url_a1, sep=';')\n",
    "    df_A2 = pd.read_csv(url_a2, sep=';')\n",
    "    df_B1 = pd.read_csv(url_b1, sep=';')\n",
    "    df_B2 = pd.read_csv(url_b2, sep=';')\n",
    "\n",
    "    dfa_2 = pd.merge(df_A1, df_A2, how='outer')\n",
    "    dfb_2 = pd.concat([df_B1, df_B2])\n",
    "\n",
    "    df = pd.merge(dfa_2, dfb_2, on = 'ID')\n",
    "\n",
    "    df['Ft'] = df['Ft'].replace('DIESEL', 'Diesel')\n",
    "    df['Ft'] = df['Ft'].replace('PETROL', 'Petrol')\n",
    "\n",
    "    df_new = df.loc[:, ['Enedc (g/km)', 'MS', 'Ft']]\n",
    "    df_new = df_new.rename(columns={'Enedc (g/km)': 'Avg emissions (g/km)'})\n",
    "    df_new = df_new.rename(columns={'MS': 'Member State'})\n",
    "    df_new = df_new.rename(columns={'Ft': 'Fuel type'})\n",
    "    #df_new\n",
    "    df_grouped = df_new.groupby(['Member State', 'Fuel type'])[('Avg emissions (g/km)')].mean().unstack('Fuel type')\n",
    "    df_grouped.columns = pd.MultiIndex.from_product([['Avg emissions (g/km)'], df_grouped.columns])\n",
    "    df_grouped = df_grouped.drop([('Avg emissions (g/km)', 'Electric'), ('Avg emissions (g/km)', 'NG')], axis=1)\n",
    "\n",
    "    df_grouped['Avg emissions (g/km)','D-P'] = df_grouped['Avg emissions (g/km)']['Diesel'] - df_grouped['Avg emissions (g/km)']['Petrol']\n",
    "    df_sorted = df_grouped.sort_values(('Avg emissions (g/km)', 'D-P'), ascending=False)\n",
    "    tulos = df_sorted.round(decimals=0).applymap(\"{:.0f}\".format).head()\n",
    "    \n",
    "    print(tulos)\n",
    "    \n",
    "autot(url_a1, url_a2, url_b1, url_b2)"
   ]
  }
 ],
 "metadata": {
  "kernelspec": {
   "display_name": "Python 3 (ipykernel)",
   "language": "python",
   "name": "python3"
  },
  "language_info": {
   "codemirror_mode": {
    "name": "ipython",
    "version": 3
   },
   "file_extension": ".py",
   "mimetype": "text/x-python",
   "name": "python",
   "nbconvert_exporter": "python",
   "pygments_lexer": "ipython3",
   "version": "3.9.13"
  }
 },
 "nbformat": 4,
 "nbformat_minor": 5
}
